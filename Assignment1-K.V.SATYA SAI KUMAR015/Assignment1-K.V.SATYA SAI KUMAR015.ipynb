{
 "cells": [
  {
   "cell_type": "markdown",
   "id": "9e878dc3",
   "metadata": {},
   "source": [
    "#1.write a function that returns the maximum of two numbers"
   ]
  },
  {
   "cell_type": "code",
   "execution_count": 5,
   "id": "cb576d74",
   "metadata": {},
   "outputs": [
    {
     "name": "stdout",
     "output_type": "stream",
     "text": [
      "2 3\n",
      "3\n"
     ]
    }
   ],
   "source": [
    "def maximum_of_2_numbers(a,b):\n",
    "    if a>b:\n",
    "        print(a)\n",
    "    else:\n",
    "        print(b)\n",
    "(a,b)=map(int,input().split())\n",
    "maximum_of_2_numbers(a,b)"
   ]
  },
  {
   "cell_type": "markdown",
   "id": "d2b23725",
   "metadata": {},
   "source": [
    "\n",
    "\n",
    "\n",
    "#2.function for checking the speed of drivers"
   ]
  },
  {
   "cell_type": "code",
   "execution_count": 14,
   "id": "0b50e70e",
   "metadata": {},
   "outputs": [
    {
     "name": "stdout",
     "output_type": "stream",
     "text": [
      "1000\n",
      "License suspended\n"
     ]
    }
   ],
   "source": [
    "def check_speed_of_drivers(speed):\n",
    "    if speed<70:\n",
    "        print(\"OK\")\n",
    "    elif speed>70:\n",
    "        c=speed-70\n",
    "        d=c//5\n",
    "        if d>12:\n",
    "            print(\"License suspended\")\n",
    "        else:\n",
    "            print(\"points:{}\".format(d))\n",
    "speed=int(input())\n",
    "check_speed_of_drivers(speed)\n",
    "        \n",
    "    "
   ]
  },
  {
   "cell_type": "markdown",
   "id": "0f4fe4b1",
   "metadata": {},
   "source": [
    "\n",
    "\n",
    "\n",
    "#3.create a regular package in python and import it in some other module"
   ]
  },
  {
   "cell_type": "code",
   "execution_count": 1,
   "id": "c74ca422",
   "metadata": {},
   "outputs": [
    {
     "data": {
      "text/plain": [
       "(510, 490, 5000, 50)"
      ]
     },
     "execution_count": 1,
     "metadata": {},
     "output_type": "execute_result"
    }
   ],
   "source": [
    "from Regular_Package import arithmetic,greet\n",
    "arithmetic.calc(500,10)"
   ]
  },
  {
   "cell_type": "code",
   "execution_count": 2,
   "id": "95a3f917",
   "metadata": {},
   "outputs": [
    {
     "name": "stdout",
     "output_type": "stream",
     "text": [
      "good morning\n"
     ]
    }
   ],
   "source": [
    "greet.hello()"
   ]
  },
  {
   "cell_type": "markdown",
   "id": "2301ddd3",
   "metadata": {},
   "source": [
    "\n",
    "\n",
    "\n",
    "#4.name 3 iterable objects in python and create it"
   ]
  },
  {
   "cell_type": "code",
   "execution_count": 41,
   "id": "b9318f6e",
   "metadata": {},
   "outputs": [],
   "source": [
    "#iterable objects are list,tuple,dictionary,set\n",
    "#list is a mutable,indexed,ordered,stores heterogeneous data type\n",
    "#tuple is a immutable,indexed,ordered,stores heterogeneous data type\n",
    "#dictionary is ordered,it is a key,value pair\n",
    "#set is a unordered,unindexed,it removes duplicate values"
   ]
  },
  {
   "cell_type": "code",
   "execution_count": 46,
   "id": "31c6bb41",
   "metadata": {},
   "outputs": [
    {
     "name": "stdout",
     "output_type": "stream",
     "text": [
      "[1, 2, 3, 'satya', 7.5, 9.111, True]\n",
      "<class 'list'>\n",
      "(1, 2, 3, 'satya', 7.5, 9.111, True)\n",
      "<class 'tuple'>\n",
      "{'name': 'satya', 'rollno': 123, 'sub': ['m3', 'sc', 'java', 'dms']}\n",
      "<class 'dict'>\n",
      "{1, 2, 3, 7.55, (1, 2, 3), 'satya'}\n",
      "<class 'set'>\n"
     ]
    }
   ],
   "source": [
    "#creating a list\n",
    "l=[1,2,3,\"satya\",7.5,9.111,True]\n",
    "print(l)\n",
    "print(type(l))\n",
    "\n",
    "\n",
    "\n",
    "#creating a tuple\n",
    "t=(1,2,3,\"satya\",7.5,9.111,True)\n",
    "print(t)\n",
    "print(type(t))\n",
    "\n",
    "\n",
    "\n",
    "#creating a dictionary\n",
    "s={\n",
    "    \"name\":\"satya\",\n",
    "    \"rollno\":123,\n",
    "    \"sub\":[\"m3\",\"sc\",\"java\",\"dms\"]\n",
    "}\n",
    "print(s)\n",
    "print(type(s))\n",
    "\n",
    "\n",
    "\n",
    "#creating a set\n",
    "s1={1,2,3,(1,2,3),\"satya\",7.55}\n",
    "print(s1)\n",
    "print(type(s1))"
   ]
  },
  {
   "cell_type": "markdown",
   "id": "9c82291b",
   "metadata": {},
   "source": [
    "#5.take a input as string and reverse it"
   ]
  },
  {
   "cell_type": "code",
   "execution_count": 17,
   "id": "e8a720cc",
   "metadata": {},
   "outputs": [
    {
     "name": "stdout",
     "output_type": "stream",
     "text": [
      "satya\n",
      "aytas\n"
     ]
    }
   ],
   "source": [
    "s=input()\n",
    "print(s[::-1])"
   ]
  }
 ],
 "metadata": {
  "kernelspec": {
   "display_name": "Python 3 (ipykernel)",
   "language": "python",
   "name": "python3"
  },
  "language_info": {
   "codemirror_mode": {
    "name": "ipython",
    "version": 3
   },
   "file_extension": ".py",
   "mimetype": "text/x-python",
   "name": "python",
   "nbconvert_exporter": "python",
   "pygments_lexer": "ipython3",
   "version": "3.9.7"
  }
 },
 "nbformat": 4,
 "nbformat_minor": 5
}
